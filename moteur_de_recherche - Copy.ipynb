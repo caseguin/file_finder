{
 "cells": [
  {
   "cell_type": "code",
   "execution_count": null,
   "metadata": {},
   "outputs": [],
   "source": [
    "# Recherche de nom de fichier\n",
    "import os\n",
    "\n",
    "def search_files(folder_path, keyword):\n",
    "    results = []\n",
    "    for root, dirs, files in os.walk(folder_path):\n",
    "        for file in files:\n",
    "            if keyword.lower() in file.lower():\n",
    "                results.append(os.path.join(root, file))\n",
    "    return results\n",
    "\n",
    "if __name__ == \"__main__\":\n",
    "    folder_path = input(\"Enter the folder path to search: \")\n",
    "    keyword = input(\"Enter the keyword to search for in file names: \")\n",
    "\n",
    "    search_results = search_files(folder_path, keyword)\n",
    "\n",
    "    if search_results:\n",
    "        print(\"Search results:\")\n",
    "        for result in search_results:\n",
    "            print(result)\n",
    "    else:\n",
    "        print(\"No matching files found.\")\n",
    "        "
   ]
  },
  {
   "cell_type": "code",
   "execution_count": null,
   "metadata": {},
   "outputs": [],
   "source": [
    "# recherche de mots\n",
    "from docx import Document\n",
    "import os\n",
    "\n",
    "def search_files(folder_path, keyword):\n",
    "    results = []\n",
    "    for root, dirs, files in os.walk(folder_path):\n",
    "        for file in files:\n",
    "            if file.endswith('.docx'):\n",
    "                file_path = os.path.join(root, file)\n",
    "                try:   \n",
    "                    doc = Document(file_path)\n",
    "\n",
    "                    for paragraph in doc.paragraphs:\n",
    "                        if keyword.lower() in paragraph.text.lower():\n",
    "                            results.append(file_path)\n",
    "                            break\n",
    "                except Exception as e:\n",
    "                    # print(f\"Error processing '{file_path}': {e}\")\n",
    "                    pass\n",
    "    return results\n",
    "\n",
    "\n",
    "if __name__ == \"__main__\":\n",
    "    folder_path = input(\"Enter the folder path to search: \")\n",
    "    keyword = input(\"Enter the keyword to search for in file names: \")\n",
    "\n",
    "    search_results = search_files(folder_path, keyword)\n",
    "\n",
    "    if search_results:\n",
    "        print(f\"Folder path searched : {folder_path}\")\n",
    "        print(f\"Keyword searched : {keyword}\")\n",
    "        print(\"-\"*25)\n",
    "        print(\"Search results:\")\n",
    "        for result in search_results:\n",
    "            print(result)\n",
    "    else:\n",
    "        print(\"No matching files found.\")"
   ]
  }
 ],
 "metadata": {
  "kernelspec": {
   "display_name": "base",
   "language": "python",
   "name": "python3"
  },
  "language_info": {
   "codemirror_mode": {
    "name": "ipython",
    "version": 3
   },
   "file_extension": ".py",
   "mimetype": "text/x-python",
   "name": "python",
   "nbconvert_exporter": "python",
   "pygments_lexer": "ipython3",
   "version": "3.11.3"
  }
 },
 "nbformat": 4,
 "nbformat_minor": 2
}
