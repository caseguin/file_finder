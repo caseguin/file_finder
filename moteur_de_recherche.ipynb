{
 "cells": [
  {
   "cell_type": "code",
   "execution_count": 5,
   "metadata": {},
   "outputs": [
    {
     "name": "stdout",
     "output_type": "stream",
     "text": [
      "No matching files found.\n"
     ]
    }
   ],
   "source": [
    "# Recherche de nom de fichier\n",
    "import os\n",
    "\n",
    "def search_files(folder_path, keyword):\n",
    "    results = []\n",
    "    for root, dirs, files in os.walk(folder_path):\n",
    "        for file in files:\n",
    "            if keyword.lower() in file.lower():\n",
    "                results.append(os.path.join(root, file))\n",
    "    return results\n",
    "\n",
    "def run_file_finder():\n",
    "    if __name__ == \"__main__\":\n",
    "        folder_path = input(\"Enter the folder path to search: \")\n",
    "        keyword = input(\"Enter the keyword to search for in file names: \")\n",
    "\n",
    "        search_results = search_files(folder_path, keyword)\n",
    "\n",
    "        if search_results:\n",
    "            print(\"Search results:\")\n",
    "            for result in search_results:\n",
    "                print(result)\n",
    "        else:\n",
    "            print(\"No matching files found.\")\n",
    "\n",
    "run_file_finder()\n",
    "        "
   ]
  },
  {
   "cell_type": "code",
   "execution_count": 1,
   "metadata": {},
   "outputs": [
    {
     "name": "stdout",
     "output_type": "stream",
     "text": [
      "No matching files found.\n"
     ]
    }
   ],
   "source": [
    "# recherche de mots dans un document\n",
    "from docx import Document\n",
    "import os\n",
    "\n",
    "def search_files(folder_path, keyword):\n",
    "    results = []\n",
    "    for root, dirs, files in os.walk(folder_path):\n",
    "        for file in files:\n",
    "            if file.endswith('.docx'):\n",
    "                file_path = os.path.join(root, file)\n",
    "                try:   \n",
    "                    doc = Document(file_path)\n",
    "\n",
    "                    for paragraph in doc.paragraphs:\n",
    "                        if keyword.lower() in paragraph.text.lower():\n",
    "                            results.append(file_path)\n",
    "                            break\n",
    "                except Exception as e:\n",
    "                    # print(f\"Error processing '{file_path}': {e}\")\n",
    "                    pass\n",
    "    return results\n",
    "\n",
    "def run_word_finder()\n",
    "    if __name__ == \"__main__\":\n",
    "        folder_path = input(\"Enter the folder path to search: \")\n",
    "        keyword = input(\"Enter the keyword to search for in file names: \")\n",
    "\n",
    "        search_results = search_files(folder_path, keyword)\n",
    "\n",
    "        if search_results:\n",
    "            print(f\"Folder path searched : {folder_path}\")\n",
    "            print(f\"Keyword searched : {keyword}\")\n",
    "            print(\"-\"*25)\n",
    "            print(\"Search results:\")\n",
    "            for result in search_results:\n",
    "                print(result)\n",
    "        else:\n",
    "            print(\"No matching files found.\")\n",
    "\n",
    "run_word_finder()"
   ]
  },
  {
   "cell_type": "code",
   "execution_count": 6,
   "metadata": {},
   "outputs": [
    {
     "ename": "AttributeError",
     "evalue": "'str' object has no attribute 'tk'",
     "output_type": "error",
     "traceback": [
      "\u001b[1;31m---------------------------------------------------------------------------\u001b[0m",
      "\u001b[1;31mAttributeError\u001b[0m                            Traceback (most recent call last)",
      "\u001b[1;32mc:\\Users\\Charles_tour\\Documents\\GitHub\\file_finder\\moteur_de_recherche.ipynb Cell 3\u001b[0m line \u001b[0;36m8\n\u001b[0;32m      <a href='vscode-notebook-cell:/c%3A/Users/Charles_tour/Documents/GitHub/file_finder/moteur_de_recherche.ipynb#W2sZmlsZQ%3D%3D?line=4'>5</a>\u001b[0m window\u001b[39m.\u001b[39mtitle(\u001b[39m'\u001b[39m\u001b[39mMoteur de recherche\u001b[39m\u001b[39m'\u001b[39m)\n\u001b[0;32m      <a href='vscode-notebook-cell:/c%3A/Users/Charles_tour/Documents/GitHub/file_finder/moteur_de_recherche.ipynb#W2sZmlsZQ%3D%3D?line=5'>6</a>\u001b[0m window\u001b[39m.\u001b[39mgeometry(\u001b[39m'\u001b[39m\u001b[39m600x800\u001b[39m\u001b[39m'\u001b[39m)\n\u001b[1;32m----> <a href='vscode-notebook-cell:/c%3A/Users/Charles_tour/Documents/GitHub/file_finder/moteur_de_recherche.ipynb#W2sZmlsZQ%3D%3D?line=7'>8</a>\u001b[0m title_lable \u001b[39m=\u001b[39m tkk\u001b[39m.\u001b[39;49mLabel(\u001b[39m'\u001b[39;49m\u001b[39mMoteur de Recherche\u001b[39;49m\u001b[39m'\u001b[39;49m)\n\u001b[0;32m      <a href='vscode-notebook-cell:/c%3A/Users/Charles_tour/Documents/GitHub/file_finder/moteur_de_recherche.ipynb#W2sZmlsZQ%3D%3D?line=8'>9</a>\u001b[0m title_lable\u001b[39m.\u001b[39mpack()\n\u001b[0;32m     <a href='vscode-notebook-cell:/c%3A/Users/Charles_tour/Documents/GitHub/file_finder/moteur_de_recherche.ipynb#W2sZmlsZQ%3D%3D?line=10'>11</a>\u001b[0m window\u001b[39m.\u001b[39mmainloop()\n",
      "File \u001b[1;32m~\\AppData\\Local\\Packages\\PythonSoftwareFoundation.Python.3.10_qbz5n2kfra8p0\\LocalCache\\local-packages\\Python310\\site-packages\\ttkbootstrap\\style.py:4941\u001b[0m, in \u001b[0;36mBootstyle.override_ttk_widget_constructor.<locals>.__init__\u001b[1;34m(self, *args, **kwargs)\u001b[0m\n\u001b[0;32m   4938\u001b[0m     style \u001b[39m=\u001b[39m \u001b[39m\"\u001b[39m\u001b[39m\"\u001b[39m\n\u001b[0;32m   4940\u001b[0m \u001b[39m# instantiate the widget\u001b[39;00m\n\u001b[1;32m-> 4941\u001b[0m func(\u001b[39mself\u001b[39m, \u001b[39m*\u001b[39margs, \u001b[39m*\u001b[39m\u001b[39m*\u001b[39mkwargs)\n\u001b[0;32m   4943\u001b[0m \u001b[39m# must be called AFTER instantiation in order to use winfo_class\u001b[39;00m\n\u001b[0;32m   4944\u001b[0m \u001b[39m#    in the `get_ttkstyle_name` method\u001b[39;00m\n\u001b[0;32m   4946\u001b[0m \u001b[39mif\u001b[39;00m style:\n",
      "File \u001b[1;32mC:\\Program Files\\WindowsApps\\PythonSoftwareFoundation.Python.3.10_3.10.3056.0_x64__qbz5n2kfra8p0\\lib\\tkinter\\ttk.py:754\u001b[0m, in \u001b[0;36mLabel.__init__\u001b[1;34m(self, master, **kw)\u001b[0m\n\u001b[0;32m    741\u001b[0m \u001b[39mdef\u001b[39;00m \u001b[39m__init__\u001b[39m(\u001b[39mself\u001b[39m, master\u001b[39m=\u001b[39m\u001b[39mNone\u001b[39;00m, \u001b[39m*\u001b[39m\u001b[39m*\u001b[39mkw):\n\u001b[0;32m    742\u001b[0m \u001b[39m    \u001b[39m\u001b[39m\"\"\"Construct a Ttk Label with parent master.\u001b[39;00m\n\u001b[0;32m    743\u001b[0m \n\u001b[0;32m    744\u001b[0m \u001b[39m    STANDARD OPTIONS\u001b[39;00m\n\u001b[1;32m   (...)\u001b[0m\n\u001b[0;32m    752\u001b[0m \u001b[39m        relief, text, wraplength\u001b[39;00m\n\u001b[0;32m    753\u001b[0m \u001b[39m    \"\"\"\u001b[39;00m\n\u001b[1;32m--> 754\u001b[0m     Widget\u001b[39m.\u001b[39;49m\u001b[39m__init__\u001b[39;49m(\u001b[39mself\u001b[39;49m, master, \u001b[39m\"\u001b[39;49m\u001b[39mttk::label\u001b[39;49m\u001b[39m\"\u001b[39;49m, kw)\n",
      "File \u001b[1;32mC:\\Program Files\\WindowsApps\\PythonSoftwareFoundation.Python.3.10_3.10.3056.0_x64__qbz5n2kfra8p0\\lib\\tkinter\\ttk.py:552\u001b[0m, in \u001b[0;36mWidget.__init__\u001b[1;34m(self, master, widgetname, kw)\u001b[0m\n\u001b[0;32m    549\u001b[0m \u001b[39mif\u001b[39;00m \u001b[39mnot\u001b[39;00m \u001b[39mgetattr\u001b[39m(master, \u001b[39m'\u001b[39m\u001b[39m_tile_loaded\u001b[39m\u001b[39m'\u001b[39m, \u001b[39mFalse\u001b[39;00m):\n\u001b[0;32m    550\u001b[0m     \u001b[39m# Load tile now, if needed\u001b[39;00m\n\u001b[0;32m    551\u001b[0m     _load_tile(master)\n\u001b[1;32m--> 552\u001b[0m tkinter\u001b[39m.\u001b[39;49mWidget\u001b[39m.\u001b[39;49m\u001b[39m__init__\u001b[39;49m(\u001b[39mself\u001b[39;49m, master, widgetname, kw\u001b[39m=\u001b[39;49mkw)\n",
      "File \u001b[1;32mC:\\Program Files\\WindowsApps\\PythonSoftwareFoundation.Python.3.10_3.10.3056.0_x64__qbz5n2kfra8p0\\lib\\tkinter\\__init__.py:2595\u001b[0m, in \u001b[0;36mBaseWidget.__init__\u001b[1;34m(self, master, widgetName, cnf, kw, extra)\u001b[0m\n\u001b[0;32m   2593\u001b[0m     cnf \u001b[39m=\u001b[39m _cnfmerge((cnf, kw))\n\u001b[0;32m   2594\u001b[0m \u001b[39mself\u001b[39m\u001b[39m.\u001b[39mwidgetName \u001b[39m=\u001b[39m widgetName\n\u001b[1;32m-> 2595\u001b[0m \u001b[39mself\u001b[39;49m\u001b[39m.\u001b[39;49m_setup(master, cnf)\n\u001b[0;32m   2596\u001b[0m \u001b[39mif\u001b[39;00m \u001b[39mself\u001b[39m\u001b[39m.\u001b[39m_tclCommands \u001b[39mis\u001b[39;00m \u001b[39mNone\u001b[39;00m:\n\u001b[0;32m   2597\u001b[0m     \u001b[39mself\u001b[39m\u001b[39m.\u001b[39m_tclCommands \u001b[39m=\u001b[39m []\n",
      "File \u001b[1;32mC:\\Program Files\\WindowsApps\\PythonSoftwareFoundation.Python.3.10_3.10.3056.0_x64__qbz5n2kfra8p0\\lib\\tkinter\\__init__.py:2564\u001b[0m, in \u001b[0;36mBaseWidget._setup\u001b[1;34m(self, master, cnf)\u001b[0m\n\u001b[0;32m   2562\u001b[0m     master \u001b[39m=\u001b[39m _get_default_root()\n\u001b[0;32m   2563\u001b[0m \u001b[39mself\u001b[39m\u001b[39m.\u001b[39mmaster \u001b[39m=\u001b[39m master\n\u001b[1;32m-> 2564\u001b[0m \u001b[39mself\u001b[39m\u001b[39m.\u001b[39mtk \u001b[39m=\u001b[39m master\u001b[39m.\u001b[39;49mtk\n\u001b[0;32m   2565\u001b[0m name \u001b[39m=\u001b[39m \u001b[39mNone\u001b[39;00m\n\u001b[0;32m   2566\u001b[0m \u001b[39mif\u001b[39;00m \u001b[39m'\u001b[39m\u001b[39mname\u001b[39m\u001b[39m'\u001b[39m \u001b[39min\u001b[39;00m cnf:\n",
      "\u001b[1;31mAttributeError\u001b[0m: 'str' object has no attribute 'tk'"
     ]
    }
   ],
   "source": [
    "import tkinter as tk\n",
    "import ttkbootstrap as tkk\n",
    "\n",
    "window = tkk.Window()\n",
    "window.title('Moteur de recherche')\n",
    "window.geometry('600x800')\n",
    "\n",
    "title_lable = tkk.Label('Moteur de Recherche')\n",
    "title_lable.pack()\n",
    "\n",
    "window.mainloop()"
   ]
  }
 ],
 "metadata": {
  "kernelspec": {
   "display_name": "base",
   "language": "python",
   "name": "python3"
  },
  "language_info": {
   "codemirror_mode": {
    "name": "ipython",
    "version": 3
   },
   "file_extension": ".py",
   "mimetype": "text/x-python",
   "name": "python",
   "nbconvert_exporter": "python",
   "pygments_lexer": "ipython3",
   "version": "3.10.11"
  }
 },
 "nbformat": 4,
 "nbformat_minor": 2
}
