{
 "cells": [
  {
   "cell_type": "code",
   "execution_count": 1,
   "metadata": {},
   "outputs": [
    {
     "name": "stdout",
     "output_type": "stream",
     "text": [
      "Image file exists.\n"
     ]
    }
   ],
   "source": [
    "import os\n",
    "\n",
    "image_path = 'folder.png'  # Replace with your image path\n",
    "\n",
    "if os.path.exists(image_path):\n",
    "    print(\"Image file exists.\")\n",
    "else:\n",
    "    print(\"Image file does not exist or path is incorrect.\")"
   ]
  },
  {
   "cell_type": "code",
   "execution_count": 2,
   "metadata": {},
   "outputs": [
    {
     "name": "stdout",
     "output_type": "stream",
     "text": [
      "Image opened successfully.\n"
     ]
    }
   ],
   "source": [
    "from PIL import Image\n",
    "\n",
    "image_path = 'folder.png'  # Replace with your image path\n",
    "\n",
    "try:\n",
    "    with Image.open(image_path) as img:\n",
    "        print(\"Image opened successfully.\")\n",
    "        img.show()  # This line will display the image using the default image viewer\n",
    "except Exception as e:\n",
    "    print(f\"Error opening the image: {e}\")"
   ]
  },
  {
   "cell_type": "code",
   "execution_count": 4,
   "metadata": {},
   "outputs": [
    {
     "name": "stdout",
     "output_type": "stream",
     "text": [
      "Search results:\n",
      "C:\\Users\\Charles_tour\\Documents\\GitHub\\file_finder\\test.docx\n",
      "C:\\Users\\Charles_tour\\Documents\\GitHub\\file_finder\\test.txt\n"
     ]
    }
   ],
   "source": [
    "# Recherche de nom de fichier\n",
    "import os\n",
    "\n",
    "def search_files(folder_path, keyword):\n",
    "    results = []\n",
    "    for root, dirs, files in os.walk(folder_path):\n",
    "        for file in files:\n",
    "            if keyword.lower() in file.lower():\n",
    "                results.append(os.path.join(root, file))\n",
    "    return results\n",
    "\n",
    "def run_file_finder():\n",
    "    if __name__ == \"__main__\":\n",
    "        folder_path = input(\"Enter the folder path to search: \")\n",
    "        keyword = input(\"Enter the keyword to search for in file names: \")\n",
    "\n",
    "        search_results = search_files(folder_path, keyword)\n",
    "\n",
    "        if search_results:\n",
    "            print(\"Search results:\")\n",
    "            for result in search_results:\n",
    "                print(result)\n",
    "        else:\n",
    "            print(\"No matching files found.\")\n",
    "\n",
    "run_file_finder()"
   ]
  },
  {
   "cell_type": "code",
   "execution_count": 16,
   "metadata": {},
   "outputs": [
    {
     "name": "stdout",
     "output_type": "stream",
     "text": [
      "No matching files found.\n"
     ]
    }
   ],
   "source": [
    "# recherche de mots dans un document\n",
    "from docx import Document\n",
    "import os\n",
    "\n",
    "def search_files(folder_path, keyword):\n",
    "    results = []\n",
    "    for root, dirs, files in os.walk(folder_path):\n",
    "        for file in files:\n",
    "            if file.endswith(('.docx', '.odt', '.txt')):\n",
    "                file_path = os.path.join(root, file)\n",
    "                try:   \n",
    "                    doc = Document(file_path)\n",
    "\n",
    "                    for paragraph in doc.paragraphs:\n",
    "                        if keyword.lower() in paragraph.text.lower():\n",
    "                            results.append(file_path)\n",
    "                            break\n",
    "                except Exception as e:\n",
    "                    # print(f\"Error processing '{file_path}': {e}\")\n",
    "                    pass\n",
    "    return results\n",
    "\n",
    "def run_word_finder():\n",
    "    if __name__ == \"__main__\":\n",
    "        folder_path = 'C:\\\\Users\\\\Charles_tour\\\\Documents\\\\GitHub\\\\file_finder'\n",
    "        keyword = 'test'\n",
    "\n",
    "        # folder_path = input(\"Enter the folder path to search: \")\n",
    "        # keyword = input(\"Enter the keyword to search for in file names: \")\n",
    "\n",
    "        search_results = search_files(folder_path, keyword)\n",
    "\n",
    "        if search_results:\n",
    "            print(f\"Folder path searched : {folder_path}\")\n",
    "            print(f\"Keyword searched : {keyword}\")\n",
    "            print(\"-\"*25)\n",
    "            print(\"Search results:\")\n",
    "            for result in search_results:\n",
    "                print(result)\n",
    "        else:\n",
    "            print(\"No matching files found.\")\n",
    "\n",
    "run_word_finder()"
   ]
  },
  {
   "cell_type": "code",
   "execution_count": 3,
   "metadata": {},
   "outputs": [],
   "source": [
    "import tkinter as tk\n",
    "import ttkbootstrap as ttk\n",
    "from PIL import ImageTk, Image  \n",
    "\n",
    "# Window\n",
    "window = ttk.Window(themename='flatly')\n",
    "window.title('Moteur de recherche')\n",
    "window.geometry('500x300')\n",
    "\n",
    "\n",
    "# Logo frame\n",
    "logo_frame = tk.Frame(window, width=500, height=200)\n",
    "logo_frame.grid(row=0, column=0)\n",
    "logo_frame.pack_propagate(False)\n",
    "\n",
    "# Image\n",
    "original_image = Image.open(\"C:\\\\Users\\\\Charles_tour\\\\Documents\\\\GitHub\\\\file_finder\\\\folder.png\")\n",
    "desired_size = (100, 100)  # Adjust these values as needed\n",
    "resized_image = original_image.resize(desired_size)\n",
    "logo_img = ImageTk.PhotoImage(resized_image)\n",
    "\n",
    "logo_widget = tk.Label(logo_frame, image=logo_img)\n",
    "logo_widget.image = logo_img\n",
    "logo_widget.pack()\n",
    "\n",
    "\n",
    "# Input frame\n",
    "input_frame = ttk.Frame(master=window)\n",
    "entry = ttk.Entry(master=input_frame)\n",
    "button = ttk.Button(master=input_frame, text='Recherche')\n",
    "\n",
    "button.pack(side='left', padx=10)\n",
    "entry.pack(side='left')    \n",
    "\n",
    "input_frame.grid(row=1, column=0, pady=10)\n",
    "\n",
    "\n",
    "\n",
    "window.mainloop()"
   ]
  },
  {
   "cell_type": "code",
   "execution_count": null,
   "metadata": {},
   "outputs": [],
   "source": []
  },
  {
   "cell_type": "code",
   "execution_count": 60,
   "metadata": {},
   "outputs": [],
   "source": [
    "import tkinter as tk\n",
    "\n",
    "root = tk.Tk()\n",
    "root.mainloop()"
   ]
  }
 ],
 "metadata": {
  "kernelspec": {
   "display_name": "base",
   "language": "python",
   "name": "python3"
  },
  "language_info": {
   "codemirror_mode": {
    "name": "ipython",
    "version": 3
   },
   "file_extension": ".py",
   "mimetype": "text/x-python",
   "name": "python",
   "nbconvert_exporter": "python",
   "pygments_lexer": "ipython3",
   "version": "3.10.11"
  }
 },
 "nbformat": 4,
 "nbformat_minor": 2
}
