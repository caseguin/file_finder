{
 "cells": [
  {
   "cell_type": "code",
   "execution_count": 4,
   "metadata": {},
   "outputs": [
    {
     "name": "stdout",
     "output_type": "stream",
     "text": [
      "Search results:\n",
      "R:\\DGAPE\\DASM\\Notes_officielles\\2023\\07-Juillet\\Modelisation\\Projection_vehicules_ScRef\\Projection_vehicules_ScRef.xlsx\n",
      "R:\\DGAPE\\DASM\\Notes_officielles\\2023\\07-Juillet\\Modelisation\\Projection_vehicules_ScRef\\Projection_vehicules_ScRef_V2.xlsx\n",
      "R:\\DGAPE\\DASM\\Notes_officielles\\2023\\08-Août\\Modelisation\\FinRoulezVert\\Roulez_vert_fin_rabais_vehicules_V2.docx\n",
      "R:\\DGAPE\\DASM\\Notes_officielles\\2023\\08-Août\\Modelisation\\FinRoulezVert\\archives\\Roulez_vert_fin_rabais_vehicules_V2_TEST.docx\n",
      "R:\\DGAPE\\DASM\\Notes_officielles\\2023\\11-nov\\Modelisation\\Roulez_vert\\Determinants_vehicules_electriques_v03.docx\n",
      "R:\\DGAPE\\DASM\\Notes_officielles\\2023\\11-nov\\Modelisation\\Roulez_vert\\Archives\\Determinants_vehicules_electriques_v01.docx\n",
      "R:\\DGAPE\\DASM\\Notes_officielles\\2023\\11-nov\\Modelisation\\Roulez_vert\\Archives\\Determinants_vehicules_electriques_v02.docx\n"
     ]
    }
   ],
   "source": [
    "# Recherche de nom de fichier\n",
    "import os\n",
    "\n",
    "def search_files(folder_path, keyword):\n",
    "    results = []\n",
    "    for root, dirs, files in os.walk(folder_path):\n",
    "        for file in files:\n",
    "            if keyword.lower() in file.lower():\n",
    "                results.append(os.path.join(root, file))\n",
    "    return results\n",
    "\n",
    "if __name__ == \"__main__\":\n",
    "    folder_path = input(\"Enter the folder path to search: \")\n",
    "    keyword = input(\"Enter the keyword to search for in file names: \")\n",
    "\n",
    "    search_results = search_files(folder_path, keyword)\n",
    "\n",
    "    if search_results:\n",
    "        print(\"Search results:\")\n",
    "        for result in search_results:\n",
    "            print(result)\n",
    "    else:\n",
    "        print(\"No matching files found.\")"
   ]
  },
  {
   "cell_type": "code",
   "execution_count": 6,
   "metadata": {},
   "outputs": [
    {
     "name": "stdout",
     "output_type": "stream",
     "text": [
      "Folder path searched : C:\\Users\\segch001\\Documents\\Python_workspace\\Test\n",
      "Keyword searched : hello\n",
      "-------------------------\n",
      "Search results:\n",
      "C:\\Users\\segch001\\Documents\\Python_workspace\\Test\\Test01.docx\n"
     ]
    }
   ],
   "source": [
    "# recherche de mots\n",
    "from docx import Document\n",
    "import os\n",
    "\n",
    "def search_files(folder_path, keyword):\n",
    "    results = []\n",
    "    for root, dirs, files in os.walk(folder_path):\n",
    "        for file in files:\n",
    "            if file.endswith('.docx'):\n",
    "                file_path = os.path.join(root, file)\n",
    "                try:   \n",
    "                    doc = Document(file_path)\n",
    "\n",
    "                    for paragraph in doc.paragraphs:\n",
    "                        if keyword.lower() in paragraph.text.lower():\n",
    "                            results.append(file_path)\n",
    "                            break\n",
    "                except Exception as e:\n",
    "                    # print(f\"Error processing '{file_path}': {e}\")\n",
    "                    pass\n",
    "    return results\n",
    "\n",
    "\n",
    "if __name__ == \"__main__\":\n",
    "    folder_path = input(\"Enter the folder path to search: \")\n",
    "    keyword = input(\"Enter the keyword to search for in file names: \")\n",
    "\n",
    "    search_results = search_files(folder_path, keyword)\n",
    "\n",
    "    if search_results:\n",
    "        print(f\"Folder path searched : {folder_path}\")\n",
    "        print(f\"Keyword searched : {keyword}\")\n",
    "        print(\"-\"*25)\n",
    "        print(\"Search results:\")\n",
    "        for result in search_results:\n",
    "            print(result)\n",
    "    else:\n",
    "        print(\"No matching files found.\")"
   ]
  },
  {
   "cell_type": "code",
   "execution_count": 13,
   "metadata": {},
   "outputs": [
    {
     "name": "stdout",
     "output_type": "stream",
     "text": [
      "Roulez vert : Incertitudes liées aux véhicules électriques \n",
      "\n",
      "Contexte\n",
      "Le programme Roulez vert existe depuis 2012 et offre actuellement un rabais pouvant atteindre 7 000 $ à l’acquisition d’un véhicule électrique (VÉ) neuf. Un doute persiste quant au maintien de ce programme. \n",
      "En effet, le contexte économique actuel crée de l’incertitude quant à la capacité de l’offre à satisfaire la demande de véhicules électriques.\n",
      "À cette incertitude, s’ajoute un doute quant à l’évolution de la demande des consommateurs pour des VÉ.\n",
      "L’état actuel et prévision des surcoûts des véhicules électriques\n",
      "Les VÉ seraient actuellement déjà rentables \n",
      "Une prévision de l’évolution des surcoûts a été élaborée par le MFQ grâce aux données de la Société de l'assurance automobile du Québec (SAAQ).\n",
      "Selon les dernières données disponibles de la SAAQ, le surcoût moyen des véhicules électriques serait actuellement de près de 3 000 $ pour les voitures et plus de 10 000 $ pour les camions légers.\n",
      "Il est estimé que la parité des coûts serait atteinte entre 2025 et 2027 pour les voitures et entre 2027 et 2031 pour les camions légers.\n",
      "L’ajout des rabais à l’acquisition réduit considérablement le surcoût des véhicules électriques.\n",
      "En effet, lorsque les subventions sont incluses, le surcoût des voitures en 2022 diminuerait à près de −2 000 $ grâce au rabais fédéral et à près de −9 000 $ pour l’ensemble des rabais.\n",
      "Lorsque les subventions sont incluses dans le prix des camions légers, le surcoût baisserait à près de 5 000 $ grâce au rabais fédéral et à près de −2 000 $ pour l’ensemble des rabais.\n",
      "Recommandations\n",
      "Il est recommandé de ne pas poursuivre le programme Roulez vert après 2025, puisque la norme véhicules zéro émission (VZE) devrait suffire à stimuler le nombre de VÉ au Québec.\n",
      "Bien que le programme Roulez vert aurait contribué à augmenter les ventes de véhicules électriques de 33 % à 45 % de 2012 à 2018 au Québec, des doutes persistent sur sa nécessité. \n",
      "En effet, Roulez vert est un outil pour stimuler la demande, alors que présentement ce sont des contraintes sur l’offre telles que la pénurie de minéraux et des difficultés dans la chaine d’approvisionnement qui limitent le marché.\n",
      "Par ailleurs, le renforcement de la norme VZE assure qu’il y aura un minimum de 2 millions de véhicules électriques au Québec en 2030, avec ou sans rabais à l’achat.\n",
      "Par ailleurs, l’effet positif de Roulez vert sur les ventes de véhicules électriques risque de devenir plus faible à mesure que les surcoûts de ces véhicules par rapport aux véhicules à essence diminueront.\n",
      "Cependant, si le gouvernement souhaitait maintenir le programme au-delà de 2025, il pourrait examiner la possibilité d’y apporter des modifications.\n",
      "Par exemple, les rabais pourraient être accordés uniquement aux premiers acheteurs de véhicules électriques ou en échange d’un véhicule à combustion interne.\n",
      "\n",
      "Annexe\n",
      "– État actuel de la demande et de l’offre de véhicules électriques –\n",
      "\n",
      "État actuel de la demande pour les véhicules électriques\n",
      "Une hausse des taux d’intérêt et du coût de la vie\n",
      "La hausse du taux directeur par la Banque du Canada au cours des derniers mois pourrait ajouter de l’incertitude quant à la capacité des ménages à se procurer un véhicule électrique.\n",
      "Le taux directeur s’établissant à 5% en date du 12 juillet 2023, les taux d’emprunt pour un véhicule ont également été revus à la hausse.\n",
      "Le taux de financement d’un véhicule s’établit maintenant autour de 10% auprès de certaines banques, la capacité d’emprunt des ménages en est affectée.\n",
      "La tendance vers des achats de véhicules plus gros\n",
      "Depuis plusieurs années, la proportion de camions légers croît au profit de celle des voitures.\n",
      "En effet, la demande pour des camions légers augmente. La proportion des camions légers est passée de 36,5 % à 45,5 % en cinq ans.\n",
      "Cette tendance risque de se transmettre aux véhicules électriques.\n",
      "Toutefois, le prix de cette classe de véhicules étant plus élevé, les agents qui désirent en faire l’acquisition risquent de tendre vers les modèles à essence.\n",
      "État actuel de l’offre de véhicules électriques\n",
      "Des perturbations dans la chaine d’approvisionnement toujours présent\n",
      "Les fabricants tendent à augmenter l’offre de plus gros véhicules électriques plus coûteux et délaissent les plus petits véhicules plus abordables qui sont peu rentables.\n",
      "En effet, la marge de profit étant plus élevée pour les gros véhicules, il est plus rentable de vendre ces modèles.\n",
      "Selon l’Administration américaine d'information sur l'énergie (EIA), les camions légers électriques nécessitent une plus grande quantité de matériaux, ce qui contribuerait à prolonger les perturbations de la chaîne d’approvisionnement.\n",
      "De plus, certains fabricants automobiles annoncent un report des investissements.\n",
      "Malgré une stagnation du prix des batteries au cours des dernières années, la tendance à la baisse devrait se poursuivre.\n",
      "Selon Bloomberg, le prix des batteries pour des VÉ se serait stabilisé autour de 203 $/kWh entre 2020 et 2023, mais devrait atteindre 83 $/kWh en 2030.\n",
      "Cette stagnation serait causée notamment par une hausse du prix des minéraux dû à la hausse de demande de VÉ d’après pandémie, ainsi qu’au conflit entre la Russie et l’Ukraine.\n",
      "De plus, la chaine d’approvisionnement des VÉ connait encore des perturbations, notamment par le manque de microprocesseurs et l’approvisionnement en minéraux. \n",
      "Selon l’EIA, l’offre de certains minéraux, notamment le lithium, serait insuffisante pour répondre à la demande pour l’année 2022. \n",
      "\n",
      "\n",
      "\n"
     ]
    }
   ],
   "source": [
    "from docx import Document\n",
    "\n",
    "doc = Document('Note_Roulez_vert_incertitudes_v2.docx')\n",
    "for paragraph in doc.paragraphs:\n",
    "    print(paragraph.text)"
   ]
  }
 ],
 "metadata": {
  "kernelspec": {
   "display_name": "base",
   "language": "python",
   "name": "python3"
  },
  "language_info": {
   "codemirror_mode": {
    "name": "ipython",
    "version": 3
   },
   "file_extension": ".py",
   "mimetype": "text/x-python",
   "name": "python",
   "nbconvert_exporter": "python",
   "pygments_lexer": "ipython3",
   "version": "3.11.3"
  }
 },
 "nbformat": 4,
 "nbformat_minor": 2
}
