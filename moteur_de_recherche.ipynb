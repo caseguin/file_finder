{
 "cells": [
  {
   "cell_type": "code",
   "execution_count": 4,
   "metadata": {},
   "outputs": [
    {
     "name": "stdout",
     "output_type": "stream",
     "text": [
      "Search results:\n",
      "R:\\DGAPE\\DASM\\Notes_officielles\\2023\\07-Juillet\\Modelisation\\Projection_vehicules_ScRef\\Projection_vehicules_ScRef.xlsx\n",
      "R:\\DGAPE\\DASM\\Notes_officielles\\2023\\07-Juillet\\Modelisation\\Projection_vehicules_ScRef\\Projection_vehicules_ScRef_V2.xlsx\n",
      "R:\\DGAPE\\DASM\\Notes_officielles\\2023\\08-Août\\Modelisation\\FinRoulezVert\\Roulez_vert_fin_rabais_vehicules_V2.docx\n",
      "R:\\DGAPE\\DASM\\Notes_officielles\\2023\\08-Août\\Modelisation\\FinRoulezVert\\archives\\Roulez_vert_fin_rabais_vehicules_V2_TEST.docx\n",
      "R:\\DGAPE\\DASM\\Notes_officielles\\2023\\11-nov\\Modelisation\\Roulez_vert\\Determinants_vehicules_electriques_v03.docx\n",
      "R:\\DGAPE\\DASM\\Notes_officielles\\2023\\11-nov\\Modelisation\\Roulez_vert\\Archives\\Determinants_vehicules_electriques_v01.docx\n",
      "R:\\DGAPE\\DASM\\Notes_officielles\\2023\\11-nov\\Modelisation\\Roulez_vert\\Archives\\Determinants_vehicules_electriques_v02.docx\n"
     ]
    }
   ],
   "source": [
    "# Recherche de nom de fichier\n",
    "import os\n",
    "\n",
    "def search_files(folder_path, keyword):\n",
    "    results = []\n",
    "    for root, dirs, files in os.walk(folder_path):\n",
    "        for file in files:\n",
    "            if keyword.lower() in file.lower():\n",
    "                results.append(os.path.join(root, file))\n",
    "    return results\n",
    "\n",
    "if __name__ == \"__main__\":\n",
    "    folder_path = input(\"Enter the folder path to search: \")\n",
    "    keyword = input(\"Enter the keyword to search for in file names: \")\n",
    "\n",
    "    search_results = search_files(folder_path, keyword)\n",
    "\n",
    "    if search_results:\n",
    "        print(\"Search results:\")\n",
    "        for result in search_results:\n",
    "            print(result)\n",
    "    else:\n",
    "        print(\"No matching files found.\")"
   ]
  },
  {
   "cell_type": "code",
   "execution_count": 6,
   "metadata": {},
   "outputs": [
    {
     "name": "stdout",
     "output_type": "stream",
     "text": [
      "Folder path searched : C:\\Users\\segch001\\Documents\\Python_workspace\\Test\n",
      "Keyword searched : hello\n",
      "-------------------------\n",
      "Search results:\n",
      "C:\\Users\\segch001\\Documents\\Python_workspace\\Test\\Test01.docx\n"
     ]
    }
   ],
   "source": [
    "# recherche de mots\n",
    "from docx import Document\n",
    "import os\n",
    "\n",
    "def search_files(folder_path, keyword):\n",
    "    results = []\n",
    "    for root, dirs, files in os.walk(folder_path):\n",
    "        for file in files:\n",
    "            if file.endswith('.docx'):\n",
    "                file_path = os.path.join(root, file)\n",
    "                try:   \n",
    "                    doc = Document(file_path)\n",
    "\n",
    "                    for paragraph in doc.paragraphs:\n",
    "                        if keyword.lower() in paragraph.text.lower():\n",
    "                            results.append(file_path)\n",
    "                            break\n",
    "                except Exception as e:\n",
    "                    # print(f\"Error processing '{file_path}': {e}\")\n",
    "                    pass\n",
    "    return results\n",
    "\n",
    "\n",
    "if __name__ == \"__main__\":\n",
    "    folder_path = input(\"Enter the folder path to search: \")\n",
    "    keyword = input(\"Enter the keyword to search for in file names: \")\n",
    "\n",
    "    search_results = search_files(folder_path, keyword)\n",
    "\n",
    "    if search_results:\n",
    "        print(f\"Folder path searched : {folder_path}\")\n",
    "        print(f\"Keyword searched : {keyword}\")\n",
    "        print(\"-\"*25)\n",
    "        print(\"Search results:\")\n",
    "        for result in search_results:\n",
    "            print(result)\n",
    "    else:\n",
    "        print(\"No matching files found.\")"
   ]
  },
  {
   "cell_type": "code",
   "execution_count": 13,
   "metadata": {},
   "outputs": [
    {
     "name": "stdout",
     "output_type": "stream",
     "text": [
      "\n",
      "\n",
      "\n"
     ]
    }
   ],
   "source": [
    "from docx import Document\n",
    "\n",
    "for paragraph in doc.paragraphs:\n",
    "    print(paragraph.text)"
   ]
  }
 ],
 "metadata": {
  "kernelspec": {
   "display_name": "base",
   "language": "python",
   "name": "python3"
  },
  "language_info": {
   "codemirror_mode": {
    "name": "ipython",
    "version": 3
   },
   "file_extension": ".py",
   "mimetype": "text/x-python",
   "name": "python",
   "nbconvert_exporter": "python",
   "pygments_lexer": "ipython3",
   "version": "3.11.3"
  }
 },
 "nbformat": 4,
 "nbformat_minor": 2
}
